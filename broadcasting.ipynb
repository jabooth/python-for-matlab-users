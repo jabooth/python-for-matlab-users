{
 "metadata": {
  "name": "broadcasting"
 },
 "nbformat": 3,
 "nbformat_minor": 0,
 "worksheets": [
  {
   "cells": [
    {
     "cell_type": "code",
     "collapsed": false,
     "input": [
      "from IPython.lib.display import YouTubeVideo\n",
      "what_you_should_be_thinking = YouTubeVideo(\"cXIV9y_5no8\")\n",
      "import numpy as np"
     ],
     "language": "python",
     "metadata": {},
     "outputs": [],
     "prompt_number": 39
    },
    {
     "cell_type": "markdown",
     "metadata": {},
     "source": [
      "For a detailed explanation, see http://docs.scipy.org/doc/numpy/user/basics.broadcasting.html (in fact, much of this is taken straight from there)"
     ]
    },
    {
     "cell_type": "markdown",
     "metadata": {},
     "source": [
      "Commonly in numerical computing, we need to apply some operation between a vector and a larger matrix (which maybe contains many instances of the vector). Lets say we have an instance of 10,000 3d points:"
     ]
    },
    {
     "cell_type": "code",
     "collapsed": false,
     "input": [
      "x = np.random.rand(10000, 3)\n",
      "print x.shape"
     ],
     "language": "python",
     "metadata": {},
     "outputs": [
      {
       "output_type": "stream",
       "stream": "stdout",
       "text": [
        "(10000, 3)\n"
       ]
      }
     ],
     "prompt_number": 40
    },
    {
     "cell_type": "markdown",
     "metadata": {},
     "source": [
      "and we want to mean centre them. We'll need the mean:"
     ]
    },
    {
     "cell_type": "code",
     "collapsed": false,
     "input": [
      "mean_x = np.mean(x, axis=0)\n",
      "print mean_x"
     ],
     "language": "python",
     "metadata": {},
     "outputs": [
      {
       "output_type": "stream",
       "stream": "stdout",
       "text": [
        "[ 0.49841932  0.50174589  0.50473683]\n"
       ]
      }
     ],
     "prompt_number": 41
    },
    {
     "cell_type": "markdown",
     "metadata": {},
     "source": [
      "In Matlab, trying the obvious doesn't work:\n",
      "\n",
      "    >> x - mean_x\n",
      "    Error using  - \n",
      "    Matrix dimensions must agree.\n",
      "\n",
      "and instead we would have to `repmat`:\n",
      "\n",
      "    >> mean_centred_x = x - repmat(mean_x, 10000, 1)\n",
      "\n",
      "whereas in numpy:"
     ]
    },
    {
     "cell_type": "code",
     "collapsed": false,
     "input": [
      "mean_centred_x = x - mean_x\n",
      "print mean_centred_x.shape"
     ],
     "language": "python",
     "metadata": {},
     "outputs": [
      {
       "output_type": "stream",
       "stream": "stdout",
       "text": [
        "(10000, 3)\n"
       ]
      }
     ],
     "prompt_number": 42
    },
    {
     "cell_type": "code",
     "collapsed": false,
     "input": [
      "what_you_should_be_thinking"
     ],
     "language": "python",
     "metadata": {},
     "outputs": [
      {
       "html": [
        "\n",
        "            <iframe\n",
        "                width=\"400\"\n",
        "                height=\"300\"\n",
        "                src=\"http://www.youtube.com/embed/cXIV9y_5no8\"\n",
        "                frameborder=\"0\"\n",
        "                allowfullscreen\n",
        "            ></iframe>\n",
        "        "
       ],
       "output_type": "pyout",
       "prompt_number": 43,
       "text": [
        "<IPython.lib.display.YouTubeVideo at 0x3ea8650>"
       ]
      }
     ],
     "prompt_number": 43
    },
    {
     "cell_type": "markdown",
     "metadata": {},
     "source": [
      "**BROADCASTING** is the answer.\n",
      "\n",
      "When Numpy is asked to perform an element-wise operation between two arrays of different sizes it doesn't just give up - it instead follows the broadcasting rules to try and perform a useful job. As a result, although `np.repeat` exists, you won't use it nearly as frequently as you did in Matlab. The rules are as follows:\n",
      "\n",
      "+ **If the arrays are of different dimensions, make the number of dimensions the same by *adding new axes to the smaller array, starting from the left*. These new dimensions are of length 1.**\n",
      "\n",
      "In our case we have:"
     ]
    },
    {
     "cell_type": "code",
     "collapsed": false,
     "input": [
      "print 'shape of x is:      ' + str(x.shape)\n",
      "print 'shape of mean_x is: ' + str(mean_x.shape)\n",
      "print 'BROADCASTING1: Arrays of differing n_dim, pad the smaller array out with new axis, starting from the left'\n",
      "print '               -> shape of mean_x becomes: ' + str(mean_x[np.newaxis, :].shape)"
     ],
     "language": "python",
     "metadata": {},
     "outputs": [
      {
       "output_type": "stream",
       "stream": "stdout",
       "text": [
        "shape of x is:      (10000, 3)\n",
        "shape of mean_x is: (3,)\n",
        "BROADCASTING1: Arrays of differing n_dim, pad the smaller array out with new axis, starting from the left\n",
        "               -> shape of mean_x becomes: (1, 3)\n"
       ]
      }
     ],
     "prompt_number": 45
    },
    {
     "cell_type": "markdown",
     "metadata": {},
     "source": [
      "whoa what does `np.newaxis` do? \n",
      "\n",
      "`np.newaxis` can be inserted anywhere in a slice operation. The result of the slice will have a new 'empty' dimension wherever you stuck the `np.newaxis`:"
     ]
    },
    {
     "cell_type": "code",
     "collapsed": false,
     "input": [
      "mean_x_na = mean_x[np.newaxis, :]\n",
      "print 'mean_x[0]: ' + str(mean_x[0])\n",
      "print 'mean_x_na[0]: ' + str(mean_x_na[0])\n",
      "print 'does mean_x_na[0] == mean_x ?: ' + str(np.all(mean_x_na[0] == mean_x))\n",
      "many_newaxis = mean_points[np.newaxis, np.newaxis, :, np.newaxis, np.newaxis, np.newaxis]\n",
      "print 'you can use as many newaxis commands as you want where you want: ' + str(many_newaxis.shape)"
     ],
     "language": "python",
     "metadata": {},
     "outputs": [
      {
       "output_type": "stream",
       "stream": "stdout",
       "text": [
        "mean_x[0]: 0.498419315679\n",
        "mean_x_na[0]: [ 0.49841932  0.50174589  0.50473683]\n",
        "does mean_x_na[0] == mean_x ?: True\n",
        "you can use as many newaxis commands as you want where you want: (1, 1, 3, 1, 1, 1)\n"
       ]
      }
     ],
     "prompt_number": 51
    },
    {
     "cell_type": "markdown",
     "metadata": {},
     "source": [
      "+ **The shapes of the two arrays now line up. If any axis is of length 1, repeat this axis to make it the same length as the corresponding axis on the other array.**\n",
      "\n",
      "Continuing with our case, we have: \n",
      "\n",
      "                      x.shape: (10000, 3)\n",
      "    mean_x_after_rule_1.shape: (    1, 3)\n",
      "                    |\n",
      "                    V\n",
      "    mean_x_after_rule_2.shape: (10000, 3)"
     ]
    },
    {
     "cell_type": "code",
     "collapsed": false,
     "input": [
      "mean_x_after_rule_2 = np.repeat(mean_x_na, 10000, axis=0)\n",
      "print 'rule two repeats empty dimensions for you: ' + str(mean_x_after_rule_2.shape)"
     ],
     "language": "python",
     "metadata": {},
     "outputs": [
      {
       "output_type": "stream",
       "stream": "stdout",
       "text": [
        "rule two repeats empty dimensions for you: (10000, 3)\n"
       ]
      }
     ],
     "prompt_number": 64
    },
    {
     "cell_type": "markdown",
     "metadata": {},
     "source": [
      "+ **If arrays have the same shape, apply the operation. If not fail with an error explaining what you couldn't broadcast.**"
     ]
    },
    {
     "cell_type": "code",
     "collapsed": false,
     "input": [],
     "language": "python",
     "metadata": {},
     "outputs": []
    }
   ],
   "metadata": {}
  }
 ]
}